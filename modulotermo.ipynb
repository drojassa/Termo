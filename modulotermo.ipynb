{
  "nbformat": 4,
  "nbformat_minor": 0,
  "metadata": {
    "colab": {
      "provenance": [],
      "authorship_tag": "ABX9TyMZV+6+EvrOYmWwfWyM+VG0",
      "include_colab_link": true
    },
    "kernelspec": {
      "name": "python3",
      "display_name": "Python 3"
    },
    "language_info": {
      "name": "python"
    }
  },
  "cells": [
    {
      "cell_type": "markdown",
      "metadata": {
        "id": "view-in-github",
        "colab_type": "text"
      },
      "source": [
        "<a href=\"https://colab.research.google.com/github/drojassa/Termo/blob/main/modulotermo.ipynb\" target=\"_parent\"><img src=\"https://colab.research.google.com/assets/colab-badge.svg\" alt=\"Open In Colab\"/></a>"
      ]
    },
    {
      "cell_type": "code",
      "source": [
        "!pip install uncertainties"
      ],
      "metadata": {
        "colab": {
          "base_uri": "https://localhost:8080/"
        },
        "id": "JOvY1ejnCtZ3",
        "outputId": "75df137d-9516-4984-a53f-af7bf43ba1b7"
      },
      "execution_count": null,
      "outputs": [
        {
          "output_type": "stream",
          "name": "stdout",
          "text": [
            "Collecting uncertainties\n",
            "  Downloading uncertainties-3.1.6-py2.py3-none-any.whl (98 kB)\n",
            "\u001b[?25l\r\u001b[K     |███▍                            | 10 kB 28.8 MB/s eta 0:00:01\r\u001b[K     |██████▊                         | 20 kB 27.6 MB/s eta 0:00:01\r\u001b[K     |██████████                      | 30 kB 22.6 MB/s eta 0:00:01\r\u001b[K     |█████████████▍                  | 40 kB 17.9 MB/s eta 0:00:01\r\u001b[K     |████████████████▊               | 51 kB 17.9 MB/s eta 0:00:01\r\u001b[K     |████████████████████            | 61 kB 15.6 MB/s eta 0:00:01\r\u001b[K     |███████████████████████▍        | 71 kB 15.5 MB/s eta 0:00:01\r\u001b[K     |██████████████████████████▊     | 81 kB 17.0 MB/s eta 0:00:01\r\u001b[K     |██████████████████████████████  | 92 kB 15.1 MB/s eta 0:00:01\r\u001b[K     |████████████████████████████████| 98 kB 5.4 MB/s \n",
            "\u001b[?25hRequirement already satisfied: future in /usr/local/lib/python3.7/dist-packages (from uncertainties) (0.16.0)\n",
            "Installing collected packages: uncertainties\n",
            "Successfully installed uncertainties-3.1.6\n"
          ]
        }
      ]
    },
    {
      "cell_type": "code",
      "source": [
        " from uncertainties import ufloat\n",
        "import uncertainties\n",
        "import pandas as pd"
      ],
      "metadata": {
        "id": "qbVXIopODKY8"
      },
      "execution_count": null,
      "outputs": []
    },
    {
      "cell_type": "code",
      "source": [
        "x=ufloat(0.2,0.1)"
      ],
      "metadata": {
        "id": "CLuBkFrzDOhO"
      },
      "execution_count": null,
      "outputs": []
    },
    {
      "cell_type": "code",
      "source": [
        "print(x**2)"
      ],
      "metadata": {
        "colab": {
          "base_uri": "https://localhost:8080/"
        },
        "id": "-Oi8DRHDDbB9",
        "outputId": "d8220824-64a8-4bef-fe1d-dcbb5c0acc7d"
      },
      "execution_count": null,
      "outputs": [
        {
          "output_type": "stream",
          "name": "stdout",
          "text": [
            "0.04+/-0.04\n"
          ]
        }
      ]
    },
    {
      "cell_type": "code",
      "source": [
        "dT=0.1\n",
        "dVr=0.01\n",
        "dVrOpen=0.01\n",
        "dVL=0.2e-3\n",
        "dE=0.1e-3\n",
        "\n",
        "T=[2.79,7.24,10.71]\n",
        "Vr=[3.04,5.12,6.44]\n",
        "VrOpen=[2.83,4.71,5.63]\n",
        "VL=[2.1e-3,9.1e-3,13.9e-3]\n",
        "E= [69.3e-3,197.1e-3,292.2e-3]\n",
        "\n",
        "for i in range(0,3):\n",
        "  T[i]=ufloat(T[i],dT)\n",
        "  Vr[i]=ufloat(Vr[i],dVr)\n",
        "  VrOpen[i]=ufloat(VrOpen[i],dVrOpen)\n",
        "  VL[i]=ufloat(VL[i],dVL)\n",
        "  E[i]=ufloat(E[i],dE)\n",
        "\n",
        "print(Vr,VrOpen,VL,E)"
      ],
      "metadata": {
        "colab": {
          "base_uri": "https://localhost:8080/"
        },
        "id": "WNNcFBXiDdCE",
        "outputId": "ec5b0434-0d4a-47d3-d12b-a85c88697095"
      },
      "execution_count": null,
      "outputs": [
        {
          "output_type": "stream",
          "name": "stdout",
          "text": [
            "[3.04+/-0.01, 5.12+/-0.01, 6.44+/-0.01] [2.83+/-0.01, 4.71+/-0.01, 5.63+/-0.01] [0.0021+/-0.0002, 0.0091+/-0.0002, 0.0139+/-0.0002] [0.0693+/-0.0001, 0.1971+/-0.0001, 0.2922+/-0.0001]\n"
          ]
        }
      ]
    },
    {
      "cell_type": "code",
      "source": [
        "R=10\n",
        "RL=0.2\n",
        "\n",
        "PA=[0,0,0]\n",
        "PL=[0,0,0]\n",
        "Ri=[0,0,0]\n",
        "IRi=[0,0,0]\n",
        "PRi=[0,0,0]\n",
        "Pop=[0,0,0]\n",
        "eta=[0,0,0]\n",
        "eta1=[0,0,0]\n",
        "eta2=[0,0,0]\n",
        "\n",
        "for i in range(0,3):\n",
        "  PA[i]=(Vr[i]**2)/R\n",
        "  PL[i]=(VL[i]**2)/RL\n",
        "  Ri[i]=(E[i]-VL[i])*RL/VL[i]\n",
        "  IRi[i]=VL[i]/RL\n",
        "  PRi[i]=(IRi[i]**2)*Ri[i]\n",
        "  Pop[i]=(VrOpen[i]**2)/R\n",
        "  eta[i]=PL[i]/PA[i]\n",
        "  eta1[i]=PL[i]/(PA[i]-Pop[i])\n",
        "  eta2[i]=(PL[i]+PRi[i])/(PA[i]-Pop[i])"
      ],
      "metadata": {
        "id": "sIZi62EFFf8v"
      },
      "execution_count": null,
      "outputs": []
    },
    {
      "cell_type": "code",
      "source": [
        "d={'PA':PA,'PL':PL,'Ri':Ri,'IRi':IRi,'PRi':PRi,'Pop':Pop,'eta':eta, 'eta1':eta1,'eta2':eta2}\n",
        "df = pd.DataFrame(data=d)\n",
        "df"
      ],
      "metadata": {
        "colab": {
          "base_uri": "https://localhost:8080/",
          "height": 207
        },
        "id": "XujtAj8uHT-a",
        "outputId": "c11e73e8-f07f-47f4-c339-6aef59f1869c"
      },
      "execution_count": null,
      "outputs": [
        {
          "output_type": "execute_result",
          "data": {
            "text/html": [
              "\n",
              "  <div id=\"df-ab4b21e9-5595-44cd-8a45-8b132a0b909c\">\n",
              "    <div class=\"colab-df-container\">\n",
              "      <div>\n",
              "<style scoped>\n",
              "    .dataframe tbody tr th:only-of-type {\n",
              "        vertical-align: middle;\n",
              "    }\n",
              "\n",
              "    .dataframe tbody tr th {\n",
              "        vertical-align: top;\n",
              "    }\n",
              "\n",
              "    .dataframe thead th {\n",
              "        text-align: right;\n",
              "    }\n",
              "</style>\n",
              "<table border=\"1\" class=\"dataframe\">\n",
              "  <thead>\n",
              "    <tr style=\"text-align: right;\">\n",
              "      <th></th>\n",
              "      <th>PA</th>\n",
              "      <th>PL</th>\n",
              "      <th>Ri</th>\n",
              "      <th>IRi</th>\n",
              "      <th>PRi</th>\n",
              "      <th>Pop</th>\n",
              "      <th>eta</th>\n",
              "      <th>eta1</th>\n",
              "      <th>eta2</th>\n",
              "    </tr>\n",
              "  </thead>\n",
              "  <tbody>\n",
              "    <tr>\n",
              "      <th>0</th>\n",
              "      <td>0.924+/-0.006</td>\n",
              "      <td>(2.2+/-0.4)e-05</td>\n",
              "      <td>6.4+/-0.6</td>\n",
              "      <td>0.0105+/-0.0010</td>\n",
              "      <td>0.00071+/-0.00007</td>\n",
              "      <td>0.801+/-0.006</td>\n",
              "      <td>(2.4+/-0.5)e-05</td>\n",
              "      <td>0.00018+/-0.00004</td>\n",
              "      <td>0.0059+/-0.0007</td>\n",
              "    </tr>\n",
              "    <tr>\n",
              "      <th>1</th>\n",
              "      <td>2.621+/-0.010</td>\n",
              "      <td>0.000414+/-0.000018</td>\n",
              "      <td>4.13+/-0.10</td>\n",
              "      <td>0.0455+/-0.0010</td>\n",
              "      <td>0.00855+/-0.00018</td>\n",
              "      <td>2.218+/-0.009</td>\n",
              "      <td>0.000158+/-0.000007</td>\n",
              "      <td>0.00103+/-0.00006</td>\n",
              "      <td>0.0223+/-0.0009</td>\n",
              "    </tr>\n",
              "    <tr>\n",
              "      <th>2</th>\n",
              "      <td>4.147+/-0.013</td>\n",
              "      <td>0.000966+/-0.000028</td>\n",
              "      <td>4.00+/-0.06</td>\n",
              "      <td>0.0695+/-0.0010</td>\n",
              "      <td>0.01934+/-0.00026</td>\n",
              "      <td>3.170+/-0.011</td>\n",
              "      <td>0.000233+/-0.000007</td>\n",
              "      <td>0.000988+/-0.000033</td>\n",
              "      <td>0.0208+/-0.0005</td>\n",
              "    </tr>\n",
              "  </tbody>\n",
              "</table>\n",
              "</div>\n",
              "      <button class=\"colab-df-convert\" onclick=\"convertToInteractive('df-ab4b21e9-5595-44cd-8a45-8b132a0b909c')\"\n",
              "              title=\"Convert this dataframe to an interactive table.\"\n",
              "              style=\"display:none;\">\n",
              "        \n",
              "  <svg xmlns=\"http://www.w3.org/2000/svg\" height=\"24px\"viewBox=\"0 0 24 24\"\n",
              "       width=\"24px\">\n",
              "    <path d=\"M0 0h24v24H0V0z\" fill=\"none\"/>\n",
              "    <path d=\"M18.56 5.44l.94 2.06.94-2.06 2.06-.94-2.06-.94-.94-2.06-.94 2.06-2.06.94zm-11 1L8.5 8.5l.94-2.06 2.06-.94-2.06-.94L8.5 2.5l-.94 2.06-2.06.94zm10 10l.94 2.06.94-2.06 2.06-.94-2.06-.94-.94-2.06-.94 2.06-2.06.94z\"/><path d=\"M17.41 7.96l-1.37-1.37c-.4-.4-.92-.59-1.43-.59-.52 0-1.04.2-1.43.59L10.3 9.45l-7.72 7.72c-.78.78-.78 2.05 0 2.83L4 21.41c.39.39.9.59 1.41.59.51 0 1.02-.2 1.41-.59l7.78-7.78 2.81-2.81c.8-.78.8-2.07 0-2.86zM5.41 20L4 18.59l7.72-7.72 1.47 1.35L5.41 20z\"/>\n",
              "  </svg>\n",
              "      </button>\n",
              "      \n",
              "  <style>\n",
              "    .colab-df-container {\n",
              "      display:flex;\n",
              "      flex-wrap:wrap;\n",
              "      gap: 12px;\n",
              "    }\n",
              "\n",
              "    .colab-df-convert {\n",
              "      background-color: #E8F0FE;\n",
              "      border: none;\n",
              "      border-radius: 50%;\n",
              "      cursor: pointer;\n",
              "      display: none;\n",
              "      fill: #1967D2;\n",
              "      height: 32px;\n",
              "      padding: 0 0 0 0;\n",
              "      width: 32px;\n",
              "    }\n",
              "\n",
              "    .colab-df-convert:hover {\n",
              "      background-color: #E2EBFA;\n",
              "      box-shadow: 0px 1px 2px rgba(60, 64, 67, 0.3), 0px 1px 3px 1px rgba(60, 64, 67, 0.15);\n",
              "      fill: #174EA6;\n",
              "    }\n",
              "\n",
              "    [theme=dark] .colab-df-convert {\n",
              "      background-color: #3B4455;\n",
              "      fill: #D2E3FC;\n",
              "    }\n",
              "\n",
              "    [theme=dark] .colab-df-convert:hover {\n",
              "      background-color: #434B5C;\n",
              "      box-shadow: 0px 1px 3px 1px rgba(0, 0, 0, 0.15);\n",
              "      filter: drop-shadow(0px 1px 2px rgba(0, 0, 0, 0.3));\n",
              "      fill: #FFFFFF;\n",
              "    }\n",
              "  </style>\n",
              "\n",
              "      <script>\n",
              "        const buttonEl =\n",
              "          document.querySelector('#df-ab4b21e9-5595-44cd-8a45-8b132a0b909c button.colab-df-convert');\n",
              "        buttonEl.style.display =\n",
              "          google.colab.kernel.accessAllowed ? 'block' : 'none';\n",
              "\n",
              "        async function convertToInteractive(key) {\n",
              "          const element = document.querySelector('#df-ab4b21e9-5595-44cd-8a45-8b132a0b909c');\n",
              "          const dataTable =\n",
              "            await google.colab.kernel.invokeFunction('convertToInteractive',\n",
              "                                                     [key], {});\n",
              "          if (!dataTable) return;\n",
              "\n",
              "          const docLinkHtml = 'Like what you see? Visit the ' +\n",
              "            '<a target=\"_blank\" href=https://colab.research.google.com/notebooks/data_table.ipynb>data table notebook</a>'\n",
              "            + ' to learn more about interactive tables.';\n",
              "          element.innerHTML = '';\n",
              "          dataTable['output_type'] = 'display_data';\n",
              "          await google.colab.output.renderOutput(dataTable, element);\n",
              "          const docLink = document.createElement('div');\n",
              "          docLink.innerHTML = docLinkHtml;\n",
              "          element.appendChild(docLink);\n",
              "        }\n",
              "      </script>\n",
              "    </div>\n",
              "  </div>\n",
              "  "
            ],
            "text/plain": [
              "              PA                   PL  ...                 eta1             eta2\n",
              "0  0.924+/-0.006      (2.2+/-0.4)e-05  ...    0.00018+/-0.00004  0.0059+/-0.0007\n",
              "1  2.621+/-0.010  0.000414+/-0.000018  ...    0.00103+/-0.00006  0.0223+/-0.0009\n",
              "2  4.147+/-0.013  0.000966+/-0.000028  ...  0.000988+/-0.000033  0.0208+/-0.0005\n",
              "\n",
              "[3 rows x 9 columns]"
            ]
          },
          "metadata": {},
          "execution_count": 24
        }
      ]
    },
    {
      "cell_type": "code",
      "source": [
        "df.to_excel('ModTerm.xlsx')"
      ],
      "metadata": {
        "id": "48Vdbw58LTcR"
      },
      "execution_count": null,
      "outputs": []
    },
    {
      "cell_type": "code",
      "source": [
        "df.to_csv('ModTerm.csv',index=False, sep=';')"
      ],
      "metadata": {
        "id": "oiK2uhIQMZnc"
      },
      "execution_count": null,
      "outputs": []
    },
    {
      "cell_type": "code",
      "source": [
        "car=[0,0,0]\n",
        "TA=ufloat(21,0.2)\n",
        "\n",
        "for i in range(0,3):\n",
        "  car[i]=(TA+T[i]-TA)/(TA+T[i])\n",
        "car"
      ],
      "metadata": {
        "colab": {
          "base_uri": "https://localhost:8080/"
        },
        "id": "fhW52jdVczde",
        "outputId": "6080f5cb-18ee-4bed-c21d-3b544c2b369c"
      },
      "execution_count": null,
      "outputs": [
        {
          "output_type": "execute_result",
          "data": {
            "text/plain": [
              "[0.11727616645649429+/-0.0038392364312664464,\n",
              " 0.25637393767705385+/-0.0031985352439112013,\n",
              " 0.33774834437086093+/-0.0029832144096719393]"
            ]
          },
          "metadata": {},
          "execution_count": 32
        }
      ]
    },
    {
      "cell_type": "code",
      "source": [
        "d1={'car':car}\n",
        "df1 = pd.DataFrame(data=d1)\n",
        "df1\n",
        "df1.to_excel('ModTerm1.xlsx')"
      ],
      "metadata": {
        "id": "rlEZ8hwPl1xW"
      },
      "execution_count": null,
      "outputs": []
    },
    {
      "cell_type": "code",
      "source": [],
      "metadata": {
        "id": "8dJSoq49mMDl"
      },
      "execution_count": null,
      "outputs": []
    }
  ]
}