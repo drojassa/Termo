{
  "nbformat": 4,
  "nbformat_minor": 0,
  "metadata": {
    "colab": {
      "provenance": [],
      "authorship_tag": "ABX9TyOKmAmadon1rPQMDeWXXPU0",
      "include_colab_link": true
    },
    "kernelspec": {
      "name": "python3",
      "display_name": "Python 3"
    },
    "language_info": {
      "name": "python"
    }
  },
  "cells": [
    {
      "cell_type": "markdown",
      "metadata": {
        "id": "view-in-github",
        "colab_type": "text"
      },
      "source": [
        "<a href=\"https://colab.research.google.com/github/drojassa/Termo/blob/main/DEBYE.ipynb\" target=\"_parent\"><img src=\"https://colab.research.google.com/assets/colab-badge.svg\" alt=\"Open In Colab\"/></a>"
      ]
    },
    {
      "cell_type": "code",
      "source": [
        "%pylab inline"
      ],
      "metadata": {
        "colab": {
          "base_uri": "https://localhost:8080/"
        },
        "id": "G1H1UQ9HJ8dE",
        "outputId": "8fdeca96-9bed-449a-d728-1c0ba7f1f74c"
      },
      "execution_count": null,
      "outputs": [
        {
          "output_type": "stream",
          "name": "stdout",
          "text": [
            "Populating the interactive namespace from numpy and matplotlib\n"
          ]
        },
        {
          "output_type": "stream",
          "name": "stderr",
          "text": [
            "/usr/local/lib/python3.7/dist-packages/IPython/core/magics/pylab.py:161: UserWarning: pylab import has clobbered these variables: ['title']\n",
            "`%matplotlib` prevents importing * from pylab and numpy\n",
            "  \"\\n`%matplotlib` prevents importing * from pylab and numpy\"\n"
          ]
        }
      ]
    },
    {
      "cell_type": "code",
      "source": [
        "\n",
        "from scipy import constants as cts\n",
        "import math\n",
        "from scipy import integrate\n",
        "\n",
        "D=[] #Temperatura de Debye de 50k a 500k\n",
        "dQ=[] #Valor de la ecuación de DeltaQ para cada temperatura de Debye\n",
        "Dmin=50\n",
        "Dmax=5000\n",
        "n=450\n",
        "dD=(Dmax-Dmin)/n\n",
        "for i in range(0,n+1):\n",
        "  D.append(50+i*dD)\n",
        "\n",
        "\n",
        "Ti=294 #Temperatura inicial (ambiente)\n",
        "Tf=77 #Temperatura final (nitrogeno liquido)\n",
        "R=cts.R #Constante de los gases ideales\n",
        "k=cts.k #K_Boltzmann\n",
        "Na=cts.N_A #N_avogadro\n",
        "\n",
        "#N=55.9*Na/55.845;title='Hierro';color='k' #Hierro\n",
        "N=18.5*Na/26.981539 ;title='Aluminio';color='b' #Aluminio\n",
        "#N=25.2*Na/63.546 ;title='Cobre'  ;color='y'#Cobre\n",
        "#N=29.993*Na/63.546+3.707*Na/118.71 ;title='Bronce';color='r#' #Bronce\n",
        "def func(x):\n",
        "    return x**3/(math.exp(x)-1) #Ec dentro de la integral\n",
        "for Di in list(D):\n",
        "  fAreai,erri = integrate.quad(func,0,Di/Ti) #Integral de la Ec hasta Ti\n",
        "  fAreaf,errf = integrate.quad(func,0,Di/Tf) #Integral de la Ec hasta Tf\n",
        "  DeltaQ=9*N*k*((Ti*(Ti/Di)**3)*fAreai-(Tf*(Tf/Di)**3)*fAreaf) #Valor del calor\n",
        "  dQ.append(DeltaQ)\n",
        "\n",
        "#GRAFICA\n",
        "plt.plot(D,dQ, color)\n",
        "plt.title(title)\n",
        "plt.ylabel(\"$\\Delta Q$(Jules)\")\n",
        "plt.xlabel(\"${\\Theta}_D$(K)\")\n",
        "plt.grid()\n",
        "L=47.23 #Calor latente nitrógeno\n",
        "DeltaM= 8.3 #Aluminio\n",
        "#DeltaM= 10.0 #Hierro\n",
        "#DeltaM= 6.9 #Cobre\n",
        "#DeltaM=7.5 #Bronce\n",
        "\n",
        "dQ_exp= DeltaM*L #Calor absorbido por el material (calorias)\n",
        "dQ_jules= dQ_exp*4.189 #Calor en Jules\n",
        "print('El calor ganado por el '+title+' es', round(dQ_exp),'cal')\n",
        "print('El calor ganado por el '+title+' es', round(dQ_jules),'Jules')"
      ],
      "metadata": {
        "colab": {
          "base_uri": "https://localhost:8080/",
          "height": 335
        },
        "id": "2FDiI-I5CdOR",
        "outputId": "155739e4-356a-4c56-e533-a3570876f664"
      },
      "execution_count": null,
      "outputs": [
        {
          "output_type": "stream",
          "name": "stdout",
          "text": [
            "El calor ganado por el Aluminio es 392 cal\n",
            "El calor ganado por el Aluminio es 1642 Jules\n"
          ]
        },
        {
          "output_type": "display_data",
          "data": {
            "image/png": "[encoded data removed]",
            "text/plain": [
              "<Figure size 432x288 with 1 Axes>"
            ]
          },
          "metadata": {
            "needs_background": "light"
          }
        }
      ]
    },
    {
      "cell_type": "code",
      "source": [],
      "metadata": {
        "id": "I5GQo-h8-rZT"
      },
      "execution_count": null,
      "outputs": []
    }
  ]
}